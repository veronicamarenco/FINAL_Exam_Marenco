{
  "nbformat": 4,
  "nbformat_minor": 0,
  "metadata": {
    "colab": {
      "provenance": []
    },
    "kernelspec": {
      "name": "python3",
      "display_name": "Python 3"
    },
    "language_info": {
      "name": "python"
    }
  },
  "cells": [
    {
      "cell_type": "code",
      "execution_count": null,
      "metadata": {
        "id": "dZnLFpdQKM8G"
      },
      "outputs": [],
      "source": [
        "#task1 square numbers in range"
      ]
    },
    {
      "cell_type": "code",
      "source": [
        "for number in range(7, 16):  #set loop and range every number between the range of 7 and 15\n",
        "    square = number ** 2 # square the number from range behind\n",
        "    print(f\"The square of {number} is {square}\") #print answer (f for format to ensure curly braces work)/ number and square defined above"
      ],
      "metadata": {
        "colab": {
          "base_uri": "https://localhost:8080/"
        },
        "id": "gTDwwnpUKWSh",
        "outputId": "4f0fff13-c9f7-4b9b-f258-bd4d561a8a9f"
      },
      "execution_count": null,
      "outputs": [
        {
          "output_type": "stream",
          "name": "stdout",
          "text": [
            "The square of 7 is 49\n",
            "The square of 8 is 64\n",
            "The square of 9 is 81\n",
            "The square of 10 is 100\n",
            "The square of 11 is 121\n",
            "The square of 12 is 144\n",
            "The square of 13 is 169\n",
            "The square of 14 is 196\n",
            "The square of 15 is 225\n"
          ]
        }
      ]
    },
    {
      "cell_type": "code",
      "source": [
        "#task2  - pass/no for grades\n"
      ],
      "metadata": {
        "id": "THl0PQFUKZYs"
      },
      "execution_count": null,
      "outputs": []
    },
    {
      "cell_type": "code",
      "source": [
        "def check_grades(grades): #define function check grades (grades)\n",
        "    for grade in grades:  #find grade in list(grades)\n",
        "        if grade >= 75:   #if then statement to determine whether it's pass or fail\n",
        "            print(\"Pass\")\n",
        "        else:\n",
        "            print(\"No\")"
      ],
      "metadata": {
        "id": "rdKA1O-OKa9k"
      },
      "execution_count": null,
      "outputs": []
    },
    {
      "cell_type": "code",
      "source": [
        "#test code"
      ],
      "metadata": {
        "id": "DATA1K6ESHnW"
      },
      "execution_count": null,
      "outputs": []
    },
    {
      "cell_type": "code",
      "source": [
        "test_grades = [82, 76, 90, 67, 75, 20]\n",
        "check_grades(test_grades)"
      ],
      "metadata": {
        "colab": {
          "base_uri": "https://localhost:8080/"
        },
        "id": "eKwnTpKVKuoh",
        "outputId": "32407f6c-bab0-4e79-f073-aa4eb23cae41"
      },
      "execution_count": null,
      "outputs": [
        {
          "output_type": "stream",
          "name": "stdout",
          "text": [
            "Pass\n",
            "Pass\n",
            "Pass\n",
            "No\n",
            "Pass\n",
            "No\n"
          ]
        }
      ]
    },
    {
      "cell_type": "code",
      "source": [
        "#task 3 - count vowels"
      ],
      "metadata": {
        "id": "9iIIquLJLre-"
      },
      "execution_count": null,
      "outputs": []
    },
    {
      "cell_type": "code",
      "source": [
        "def count_vowels(text): #write a function count_vowels\n",
        "    vowels = 'aeiou'\n",
        "    text = text.lower()  # Make it case-sensitive\n",
        "    vowel_counts = {v: 0 for v in vowels}  # how to count vowels\n",
        "\n",
        "    for char in text: # For loop to review characters in text\n",
        "        if char in vowels: # if statement to find vowels in text\n",
        "            vowel_counts[char] += 1 # add one for every vowel found in text\n",
        "\n",
        "    total_vowels = sum(vowel_counts.values()) # determine the total amount of vowels\n",
        "    print(f\"Total number of vowels: {total_vowels}\") # Output for function\n",
        "\n",
        "    for vowel, count in vowel_counts.items(): # function to show exact number of each vowel in sentence\n",
        "        print(f\"{vowel}: {count}\")\n",
        "\n",
        "# Test with quote\n",
        "quote = \"The greatest value of a picture is when it forces us to notice what we never expected to see.  John Tukey\" #quote\n",
        "count_vowels(quote)"
      ],
      "metadata": {
        "colab": {
          "base_uri": "https://localhost:8080/"
        },
        "id": "UWaxYsI_Ls3d",
        "outputId": "f4c0a814-d186-407d-d3fe-522e3a38f089"
      },
      "execution_count": null,
      "outputs": [
        {
          "output_type": "stream",
          "name": "stdout",
          "text": [
            "Total number of vowels: 35\n",
            "a: 4\n",
            "e: 17\n",
            "i: 4\n",
            "o: 6\n",
            "u: 4\n"
          ]
        }
      ]
    },
    {
      "cell_type": "code",
      "source": [
        "#task 4 - data collection tool"
      ],
      "metadata": {
        "id": "Pn8dciVtLfpt"
      },
      "execution_count": null,
      "outputs": []
    },
    {
      "cell_type": "code",
      "source": [
        "def collect_numbers():  # create function collect numbers\n",
        "    numbers = [] #make list\n",
        "\n",
        "    while True: #while loop\n",
        "        user_input = input(\"Enter a number (or type 'done' to finish): \").strip() #collects inputs #strip to ignore spaces example \"50 \"\n",
        "\n",
        "        if user_input.lower() == \"done\": #write done to break the loop\n",
        "            break\n",
        "        elif user_input == \"\": #if user writes nothing, print following error message\n",
        "            print(\"Invalid input. Try again.\")\n",
        "            continue\n",
        "        else:\n",
        "            try:\n",
        "                number = float(user_input) #convert number or string to float if possible\n",
        "                numbers.append(number)\n",
        "            except ValueError: #if value error (user does not input number) display following error message\n",
        "                print(\"Invalid input. Try again.\")\n",
        "\n",
        "    if numbers: #if numbers are legible (not letters)\n",
        "        total = len(numbers) #determine amount of numbers entered\n",
        "        average = round(sum(numbers) / total, 2) #find the average\n",
        "        print(f\"\\nTotal numbers entered: {total}\") # f\"\\n\" to enter new line - displays total\n",
        "        print(f\"Average of numbers: {average}\") # f\"\\n\" to enter new line - displays average\n",
        "    else:\n",
        "        print(\"\\nNo valid numbers were entered.\") #if value error (user does not input number) display following error message\n",
        "\n",
        "# Run the function\n",
        "collect_numbers()\n"
      ],
      "metadata": {
        "colab": {
          "base_uri": "https://localhost:8080/"
        },
        "id": "KN7L-fvqKzc0",
        "outputId": "73f1a054-e1e3-40c7-919b-7681d76e10e8"
      },
      "execution_count": null,
      "outputs": [
        {
          "output_type": "stream",
          "name": "stdout",
          "text": [
            "Enter a number (or type 'done' to finish): 30  \n",
            "Enter a number (or type 'done' to finish): 20 \n",
            "Enter a number (or type 'done' to finish): done\n",
            "\n",
            "Total numbers entered: 2\n",
            "Average of numbers: 25.0\n"
          ]
        }
      ]
    },
    {
      "cell_type": "code",
      "source": [
        "#task 5 -"
      ],
      "metadata": {
        "id": "UNXgLv51LaBI"
      },
      "execution_count": null,
      "outputs": []
    },
    {
      "cell_type": "code",
      "source": [
        "#data\n",
        "purchases = [(\"Alice\", 120), (\"Bob\", 80), (\"Alice\", 50), (\"Bob\", 20), (\"Clara\", 200)]\n",
        "\n",
        "totals = {} # Dictionary to store total purchases per customer\n",
        "\n",
        "for name, amount in purchases: # for loop to review all the data (names)\n",
        "    if name in totals:\n",
        "        totals[name] += amount # add amount spent per person\n",
        "    else:\n",
        "        totals[name] = amount # if only one name print total amount\n",
        "\n",
        "for customer, total in totals.items(): #based on dictionary information gathered above:\n",
        "    print(f\"{customer} spent a total of ${total}\") # Print total spent by each customer"
      ],
      "metadata": {
        "colab": {
          "base_uri": "https://localhost:8080/"
        },
        "id": "86nWnQuKLcwJ",
        "outputId": "4a9f0bcd-7fa8-4992-a2cc-32f2305262bf"
      },
      "execution_count": null,
      "outputs": [
        {
          "output_type": "stream",
          "name": "stdout",
          "text": [
            "Alice spent a total of $170\n",
            "Bob spent a total of $100\n",
            "Clara spent a total of $200\n"
          ]
        }
      ]
    },
    {
      "cell_type": "code",
      "source": [
        "import pandas as pd\n",
        "from datetime import datetime"
      ],
      "metadata": {
        "id": "qcQbWmmJMWij"
      },
      "execution_count": null,
      "outputs": []
    },
    {
      "cell_type": "code",
      "source": [
        "import wbdata"
      ],
      "metadata": {
        "id": "8xg9lP7EZJPe"
      },
      "execution_count": null,
      "outputs": []
    },
    {
      "cell_type": "code",
      "source": [
        "indicator = {\"SP.POP.TOTL\": \"Population\"} # Define indicator and country\n",
        "country = ['PRT']  # ISO-3 code for Portugal\n",
        "\n",
        "df = wbdata.get_dataframe(indicator, country=country) #Get data\n",
        "\n",
        "df = df.reset_index() # Reset index so 'date' becomes a column\n",
        "\n",
        "df['date'] = pd.to_datetime(df['date'], errors='coerce') # Convert 'date' column to datetime (necessary!)\n",
        "\n",
        "df = df[(df['date'].dt.year >= 2010) & (df['date'].dt.year <= 2020)] # Select years 2010 to 2020\n",
        "\n",
        "\n",
        "\n",
        "df = df.sort_values('date', ascending=False) # sort data by date in descending order\n",
        "\n",
        "print(\" Population Data for Portugal (2010–2020):\\n\") # Print results\n",
        "for _, row in df.iterrows(): #for text of block indented, execute function to get data printed below (Country, Year, Population)\n",
        "    year = row[\"date\"].year\n",
        "    population = int(row[\"Population\"])\n",
        "    print(f\"Country: Portugal - Year: {year} - Population: {population:,}\")"
      ],
      "metadata": {
        "colab": {
          "base_uri": "https://localhost:8080/"
        },
        "id": "i4rC6uVKZZbu",
        "outputId": "8ba5d7ed-a655-496d-be6e-3a1a87a2656c"
      },
      "execution_count": null,
      "outputs": [
        {
          "output_type": "stream",
          "name": "stdout",
          "text": [
            " Population Data for Portugal (2010–2020):\n",
            "\n",
            "Country: Portugal - Year: 2020 - Population: 10,297,081\n",
            "Country: Portugal - Year: 2019 - Population: 10,286,263\n",
            "Country: Portugal - Year: 2018 - Population: 10,283,822\n",
            "Country: Portugal - Year: 2017 - Population: 10,300,300\n",
            "Country: Portugal - Year: 2016 - Population: 10,325,452\n",
            "Country: Portugal - Year: 2015 - Population: 10,358,076\n",
            "Country: Portugal - Year: 2014 - Population: 10,401,062\n",
            "Country: Portugal - Year: 2013 - Population: 10,457,295\n",
            "Country: Portugal - Year: 2012 - Population: 10,514,844\n",
            "Country: Portugal - Year: 2011 - Population: 10,557,560\n",
            "Country: Portugal - Year: 2010 - Population: 10,573,100\n"
          ]
        }
      ]
    }
  ]
}